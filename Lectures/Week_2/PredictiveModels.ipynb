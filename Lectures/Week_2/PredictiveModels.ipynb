{
 "cells": [
  {
   "cell_type": "markdown",
   "metadata": {
    "slideshow": {
     "slide_type": "slide"
    }
   },
   "source": [
    "## Lecture 3: Predictive Models and the Bias-Variance trade-off "
   ]
  },
  {
   "cell_type": "code",
   "execution_count": 40,
   "metadata": {
    "slideshow": {
     "slide_type": "fragment"
    }
   },
   "outputs": [],
   "source": [
    "import numpy as np\n",
    "from matplotlib import pyplot as plt\n",
    "import pandas as pd\n",
    "from numpy import random\n",
    "rng = random.default_rng(123)"
   ]
  },
  {
   "cell_type": "markdown",
   "metadata": {
    "slideshow": {
     "slide_type": "slide"
    }
   },
   "source": [
    "### Fuel Consumption Data Set \n",
    "We begin by loading up the `mtcars` dataset. This data was extracted from the 1974 Motor Trend US magazine, and comprises of fuel consumption and 10 aspects of automobile design and performance for 32 automobiles (1973–74 models). We will load this data to a dataframe with 32 observations on 11 (numeric) variables. Here is an explanation of the features:\n",
    "\n",
    "- `mpg` is Miles/(US) gallon \n",
    "- `cyl` is Number of cylinders, \n",
    "- `disp` is\tDisplacement (cu.in.), \n",
    "- `hp` is\tGross horsepower, \n",
    "- `drat` is\tRear axle ratio, \n",
    "- `wt` is the Weight (1000 lbs), \n",
    "- `qsec` is 1/4 mile time,\n",
    "- `vs` is Engine (0 = V-shaped, 1 = straight), \n",
    "- `am` is Transmission (0 = automatic, 1 = manual), \n",
    "- `gear` is the Number of forward gears, \n",
    "- `carb` is\tNumber of carburetors."
   ]
  },
  {
   "cell_type": "code",
   "execution_count": 41,
   "metadata": {
    "slideshow": {
     "slide_type": "slide"
    }
   },
   "outputs": [
    {
     "data": {
      "application/vnd.microsoft.datawrangler.viewer.v0+json": {
       "columns": [
        {
         "name": "index",
         "rawType": "int64",
         "type": "integer"
        },
        {
         "name": "Unnamed: 0",
         "rawType": "object",
         "type": "string"
        },
        {
         "name": "mpg",
         "rawType": "float64",
         "type": "float"
        },
        {
         "name": "cyl",
         "rawType": "int64",
         "type": "integer"
        },
        {
         "name": "disp",
         "rawType": "float64",
         "type": "float"
        },
        {
         "name": "hp",
         "rawType": "int64",
         "type": "integer"
        },
        {
         "name": "drat",
         "rawType": "float64",
         "type": "float"
        },
        {
         "name": "wt",
         "rawType": "float64",
         "type": "float"
        },
        {
         "name": "qsec",
         "rawType": "float64",
         "type": "float"
        },
        {
         "name": "vs",
         "rawType": "int64",
         "type": "integer"
        },
        {
         "name": "am",
         "rawType": "int64",
         "type": "integer"
        },
        {
         "name": "gear",
         "rawType": "int64",
         "type": "integer"
        },
        {
         "name": "carb",
         "rawType": "int64",
         "type": "integer"
        }
       ],
       "ref": "a5d8e852-bf79-4929-80b7-13b7bd128551",
       "rows": [
        [
         "0",
         "Mazda RX4",
         "21.0",
         "6",
         "160.0",
         "110",
         "3.9",
         "2.62",
         "16.46",
         "0",
         "1",
         "4",
         "4"
        ],
        [
         "1",
         "Mazda RX4 Wag",
         "21.0",
         "6",
         "160.0",
         "110",
         "3.9",
         "2.875",
         "17.02",
         "0",
         "1",
         "4",
         "4"
        ],
        [
         "2",
         "Datsun 710",
         "22.8",
         "4",
         "108.0",
         "93",
         "3.85",
         "2.32",
         "18.61",
         "1",
         "1",
         "4",
         "1"
        ],
        [
         "3",
         "Hornet 4 Drive",
         "21.4",
         "6",
         "258.0",
         "110",
         "3.08",
         "3.215",
         "19.44",
         "1",
         "0",
         "3",
         "1"
        ],
        [
         "4",
         "Hornet Sportabout",
         "18.7",
         "8",
         "360.0",
         "175",
         "3.15",
         "3.44",
         "17.02",
         "0",
         "0",
         "3",
         "2"
        ]
       ],
       "shape": {
        "columns": 12,
        "rows": 5
       }
      },
      "text/html": [
       "<div>\n",
       "<style scoped>\n",
       "    .dataframe tbody tr th:only-of-type {\n",
       "        vertical-align: middle;\n",
       "    }\n",
       "\n",
       "    .dataframe tbody tr th {\n",
       "        vertical-align: top;\n",
       "    }\n",
       "\n",
       "    .dataframe thead th {\n",
       "        text-align: right;\n",
       "    }\n",
       "</style>\n",
       "<table border=\"1\" class=\"dataframe\">\n",
       "  <thead>\n",
       "    <tr style=\"text-align: right;\">\n",
       "      <th></th>\n",
       "      <th>Unnamed: 0</th>\n",
       "      <th>mpg</th>\n",
       "      <th>cyl</th>\n",
       "      <th>disp</th>\n",
       "      <th>hp</th>\n",
       "      <th>drat</th>\n",
       "      <th>wt</th>\n",
       "      <th>qsec</th>\n",
       "      <th>vs</th>\n",
       "      <th>am</th>\n",
       "      <th>gear</th>\n",
       "      <th>carb</th>\n",
       "    </tr>\n",
       "  </thead>\n",
       "  <tbody>\n",
       "    <tr>\n",
       "      <th>0</th>\n",
       "      <td>Mazda RX4</td>\n",
       "      <td>21.0</td>\n",
       "      <td>6</td>\n",
       "      <td>160.0</td>\n",
       "      <td>110</td>\n",
       "      <td>3.90</td>\n",
       "      <td>2.620</td>\n",
       "      <td>16.46</td>\n",
       "      <td>0</td>\n",
       "      <td>1</td>\n",
       "      <td>4</td>\n",
       "      <td>4</td>\n",
       "    </tr>\n",
       "    <tr>\n",
       "      <th>1</th>\n",
       "      <td>Mazda RX4 Wag</td>\n",
       "      <td>21.0</td>\n",
       "      <td>6</td>\n",
       "      <td>160.0</td>\n",
       "      <td>110</td>\n",
       "      <td>3.90</td>\n",
       "      <td>2.875</td>\n",
       "      <td>17.02</td>\n",
       "      <td>0</td>\n",
       "      <td>1</td>\n",
       "      <td>4</td>\n",
       "      <td>4</td>\n",
       "    </tr>\n",
       "    <tr>\n",
       "      <th>2</th>\n",
       "      <td>Datsun 710</td>\n",
       "      <td>22.8</td>\n",
       "      <td>4</td>\n",
       "      <td>108.0</td>\n",
       "      <td>93</td>\n",
       "      <td>3.85</td>\n",
       "      <td>2.320</td>\n",
       "      <td>18.61</td>\n",
       "      <td>1</td>\n",
       "      <td>1</td>\n",
       "      <td>4</td>\n",
       "      <td>1</td>\n",
       "    </tr>\n",
       "    <tr>\n",
       "      <th>3</th>\n",
       "      <td>Hornet 4 Drive</td>\n",
       "      <td>21.4</td>\n",
       "      <td>6</td>\n",
       "      <td>258.0</td>\n",
       "      <td>110</td>\n",
       "      <td>3.08</td>\n",
       "      <td>3.215</td>\n",
       "      <td>19.44</td>\n",
       "      <td>1</td>\n",
       "      <td>0</td>\n",
       "      <td>3</td>\n",
       "      <td>1</td>\n",
       "    </tr>\n",
       "    <tr>\n",
       "      <th>4</th>\n",
       "      <td>Hornet Sportabout</td>\n",
       "      <td>18.7</td>\n",
       "      <td>8</td>\n",
       "      <td>360.0</td>\n",
       "      <td>175</td>\n",
       "      <td>3.15</td>\n",
       "      <td>3.440</td>\n",
       "      <td>17.02</td>\n",
       "      <td>0</td>\n",
       "      <td>0</td>\n",
       "      <td>3</td>\n",
       "      <td>2</td>\n",
       "    </tr>\n",
       "  </tbody>\n",
       "</table>\n",
       "</div>"
      ],
      "text/plain": [
       "          Unnamed: 0   mpg  cyl   disp   hp  drat     wt   qsec  vs  am  gear  \\\n",
       "0          Mazda RX4  21.0    6  160.0  110  3.90  2.620  16.46   0   1     4   \n",
       "1      Mazda RX4 Wag  21.0    6  160.0  110  3.90  2.875  17.02   0   1     4   \n",
       "2         Datsun 710  22.8    4  108.0   93  3.85  2.320  18.61   1   1     4   \n",
       "3     Hornet 4 Drive  21.4    6  258.0  110  3.08  3.215  19.44   1   0     3   \n",
       "4  Hornet Sportabout  18.7    8  360.0  175  3.15  3.440  17.02   0   0     3   \n",
       "\n",
       "   carb  \n",
       "0     4  \n",
       "1     4  \n",
       "2     1  \n",
       "3     1  \n",
       "4     2  "
      ]
     },
     "execution_count": 41,
     "metadata": {},
     "output_type": "execute_result"
    }
   ],
   "source": [
    "import pandas as pd\n",
    "#load mtcars\n",
    "dfcars = pd.read_csv(\"../data/mtcars.csv\")\n",
    "dfcars.head()"
   ]
  },
  {
   "cell_type": "code",
   "execution_count": 42,
   "metadata": {
    "slideshow": {
     "slide_type": "fragment"
    }
   },
   "outputs": [
    {
     "data": {
      "text/plain": [
       "(32, 12)"
      ]
     },
     "execution_count": 42,
     "metadata": {},
     "output_type": "execute_result"
    }
   ],
   "source": [
    "dfcars.shape"
   ]
  },
  {
   "cell_type": "code",
   "execution_count": 43,
   "metadata": {
    "slideshow": {
     "slide_type": "slide"
    }
   },
   "outputs": [
    {
     "data": {
      "image/png": "[encoded data removed]",
      "text/plain": [
       "<Figure size 1500x600 with 2 Axes>"
      ]
     },
     "metadata": {},
     "output_type": "display_data"
    }
   ],
   "source": [
    "y_mpg = np.array(dfcars.mpg)\n",
    "x_wt = np.array(dfcars.wt)\n",
    "x_hp = np.array(dfcars.hp)\n",
    "fig, ax = plt.subplots(1,2,figsize=(15,6))\n",
    "ax[0].plot(x_wt, y_mpg,'bo')\n",
    "ax[0].set_xlabel('Car Weight')\n",
    "ax[0].set_ylabel('Car MPG')\n",
    "ax[1].plot(x_hp, y_mpg,'ro')\n",
    "ax[1].set_xlabel('Car HP')\n",
    "ax[1].set_ylabel('Car MPG')\n",
    "plt.show()"
   ]
  },
  {
   "cell_type": "markdown",
   "metadata": {
    "slideshow": {
     "slide_type": "slide"
    }
   },
   "source": [
    "* Next, let's split the dataset into a training set and test set.\n",
    "* There are two critical parameters here.  \n",
    "    * `test_size` determines what fraction of the data should be set aside for the test set\n",
    "    * `random_state` sets a seed in order to first shuffle the data and then split it. \n",
    "    * \n",
    "* this is cool.  I can directly split the data frame, and thus be able to have two separate data frames. "
   ]
  },
  {
   "cell_type": "code",
   "execution_count": 44,
   "metadata": {
    "slideshow": {
     "slide_type": "fragment"
    }
   },
   "outputs": [],
   "source": [
    "# split into training set and testing set\n",
    "from sklearn.model_selection import train_test_split\n",
    "\n",
    "#set random_state to get the same split every time\n",
    "\n",
    "traindf, testdf = train_test_split(dfcars, test_size=0.3, random_state=83)\n"
   ]
  },
  {
   "cell_type": "code",
   "execution_count": 45,
   "metadata": {
    "slideshow": {
     "slide_type": "slide"
    }
   },
   "outputs": [
    {
     "name": "stdout",
     "output_type": "stream",
     "text": [
      "<class 'pandas.core.frame.DataFrame'>\n",
      "Index: 22 entries, 9 to 18\n",
      "Data columns (total 12 columns):\n",
      " #   Column      Non-Null Count  Dtype  \n",
      "---  ------      --------------  -----  \n",
      " 0   Unnamed: 0  22 non-null     object \n",
      " 1   mpg         22 non-null     float64\n",
      " 2   cyl         22 non-null     int64  \n",
      " 3   disp        22 non-null     float64\n",
      " 4   hp          22 non-null     int64  \n",
      " 5   drat        22 non-null     float64\n",
      " 6   wt          22 non-null     float64\n",
      " 7   qsec        22 non-null     float64\n",
      " 8   vs          22 non-null     int64  \n",
      " 9   am          22 non-null     int64  \n",
      " 10  gear        22 non-null     int64  \n",
      " 11  carb        22 non-null     int64  \n",
      "dtypes: float64(5), int64(6), object(1)\n",
      "memory usage: 2.2+ KB\n"
     ]
    }
   ],
   "source": [
    "traindf.info()"
   ]
  },
  {
   "cell_type": "markdown",
   "metadata": {
    "slideshow": {
     "slide_type": "fragment"
    }
   },
   "source": [
    "Our **target** variable - `y` is mpg.   hp and wt are **predictors** - the `x` variable "
   ]
  },
  {
   "cell_type": "code",
   "execution_count": 46,
   "metadata": {
    "slideshow": {
     "slide_type": "slide"
    }
   },
   "outputs": [],
   "source": [
    "#Here is how to extract the numpy arrays from the training data frame.\n",
    "mpg_train = np.array(traindf.mpg)\n",
    "hp_train = np.array(traindf.hp)\n",
    "wt_train = np.array(traindf.wt)\n",
    "#do the stupid reshape to make regression function work. \n",
    "hp_train = hp_train.reshape(hp_train.shape[0], 1)\n",
    "wt_train = wt_train.reshape(wt_train.shape[0], 1)"
   ]
  },
  {
   "cell_type": "code",
   "execution_count": null,
   "metadata": {
    "slideshow": {
     "slide_type": "fragment"
    }
   },
   "outputs": [],
   "source": [
    "#here is how to extract the numpy arrays from the test data frame.\n",
    "mpg_test = np.array(testdf.mpg)\n",
    "hp_test = np.array(testdf.hp)\n",
    "wt_test = np.array(testdf.wt)\n",
    "#do the stupid reshape to make regression function work. \n",
    "hp_test = hp_test.reshape(hp_test.shape[0], 1)\n",
    "wt_test = wt_test.reshape(wt_test.shape[0], 1)"
   ]
  },
  {
   "cell_type": "code",
   "execution_count": 48,
   "metadata": {
    "slideshow": {
     "slide_type": "slide"
    }
   },
   "outputs": [],
   "source": [
    "from sklearn.linear_model import LinearRegression\n",
    "#create linear model\n",
    "lr_hp = LinearRegression()\n",
    "#fit linear model for hp\n",
    "lr_hp.fit(hp_train, mpg_train)\n",
    "#predict the test data from hp\n",
    "hp_pr_mpg = lr_hp.predict(hp_test)"
   ]
  },
  {
   "cell_type": "markdown",
   "metadata": {
    "slideshow": {
     "slide_type": "slide"
    }
   },
   "source": [
    "### Model Evaluation using $R^2$ - proportion of variance accounted for by the model. \n",
    "\n",
    "* The predicted values of $y$ are $\\hat{y}_i$ from each $x_i$ \n",
    "\n",
    "$$\n",
    "\\hat{y}_i = \\hat{\\beta}_0 + \\hat{\\beta}_1 x_i, \n",
    "\n",
    "$$\n",
    "\n",
    "* Then the equation for $R^2$ is \n",
    "\n",
    "$$ R^2\n",
    "= 1 - \\frac{\\mathrm{SS}_{\\mathrm{res}}}{\\mathrm{SS}_{\\mathrm{tot}}}\n",
    "= 1 - \\frac{\\sum_{i=1}^{n} \\bigl(y_i - \\hat{y}_i\\bigr)^2}{\\sum_{i=1}^{n} \\bigl(y_i - \\bar{y}\\bigr)^2},\n",
    "$$\n",
    "\n",
    "* Notice that the numerator is our error function that we minimized to get our least squares solution.  \n",
    "* The denominator is the variance in the $y$ (without dividing by the number of samples) \n",
    "\n",
    "\n",
    "$$\n",
    "\\mathrm{SS}_{\\mathrm{res}}\n",
    "= \\sum_{i=1}^{n} \\bigl(y_i - \\hat{y}_i \\bigr)^2\n",
    "= \\sum_{i=1}^{n} \\bigl(y_i - (\\hat{\\beta}_0 + \\hat{\\beta}_1 x_i)\\bigr)^2,\n",
    "$$\n",
    "\n",
    "$$\n",
    "\\mathrm{SS}_{\\mathrm{tot}}\n",
    "= \\sum_{i=1}^{n} \\bigl(y_i - \\bar{y} \\bigr)^2,\n",
    "\n",
    "$$\n",
    "\n",
    "* $\\bar{y}$ is just the mean.  \n",
    "\n",
    "$$\\bar{y} = \\frac{1}{n}\\sum_{i=1}^n y_i $$\n",
    "\n",
    "* Equivalently, a common form in the case of simple linear regression is \n",
    "\n",
    "$$\n",
    "R^2\n",
    "= \\frac{\\mathrm{Cov}(X,Y)^2}{\\mathrm{Var}(X)\\,\\mathrm{Var}(Y)}\n",
    "= \\rho_{XY}^2,\n",
    "$$\n",
    "\n",
    "* where $\\rho_{XY}$ is the correlation coefficient\n"
   ]
  },
  {
   "cell_type": "code",
   "execution_count": 49,
   "metadata": {
    "slideshow": {
     "slide_type": "slide"
    }
   },
   "outputs": [
    {
     "name": "stdout",
     "output_type": "stream",
     "text": [
      "hp training R^2 =  0.605653885592825\n",
      "hp test R^2 =  0.5786483221508159\n"
     ]
    }
   ],
   "source": [
    "hp_test_r2 = lr_hp.score(hp_test, mpg_test)\n",
    "hp_train_r2 = lr_hp.score(hp_train, mpg_train)\n",
    "print('hp training R^2 = ' ,hp_train_r2)\n",
    "print('hp test R^2 = ' ,hp_test_r2)"
   ]
  },
  {
   "cell_type": "code",
   "execution_count": 50,
   "metadata": {
    "slideshow": {
     "slide_type": "slide"
    }
   },
   "outputs": [
    {
     "name": "stdout",
     "output_type": "stream",
     "text": [
      "wt training R^2 = 0.7984919418023596\n",
      "wt test R^2 = 0.5670679031203465\n"
     ]
    }
   ],
   "source": [
    "lr_mpg = LinearRegression()  #create linear model\n",
    "lr_mpg.fit(wt_train, mpg_train) #fit linear model for wt\n",
    "wt_pr_mpg = lr_mpg.predict(wt_test) #predict mpg from wt for test data\n",
    "wt_train_r2 = lr_mpg.score(wt_train, mpg_train) #compute R^2 for training data\n",
    "wt_test_r2 = lr_mpg.score(wt_test, mpg_test) #compute R^2 for test data\n",
    "print('wt training R^2 =' ,wt_train_r2) \n",
    "print('wt test R^2 =' ,wt_test_r2)"
   ]
  },
  {
   "cell_type": "markdown",
   "metadata": {
    "slideshow": {
     "slide_type": "slide"
    }
   },
   "source": [
    "### Some preliminary thoughts:  \n",
    "* Wt seems fit the mpg much better than horse power. \n",
    "    * $R^2$ in the training data is 0.80 for weight, $R^2$ in the training data is only 0.61 for hp   \n",
    "* Both models predict new variables with about the same accuracy\n",
    "    * $R^2$ in the test data is 0.57 for weight, $R^2$ in the test data is only 0.58 for hp \n",
    "* Paradoxically, fitting the data better may not result in a better predictive model. "
   ]
  },
  {
   "cell_type": "markdown",
   "metadata": {
    "slideshow": {
     "slide_type": "slide"
    }
   },
   "source": [
    "### K nearest neighbors (K-nn) regression\n",
    "\n",
    "Linear Regression is not the only way to do regression.  \n",
    "**K-nn regression**  is based on a simple idea:\n",
    "\n",
    "* For every data point ${x,y}$ find the K nearest neighbors in the training set and estimate as: \n",
    "\n",
    "$$ \\hat{y} = \\frac{1}{K}\\sum_{k=1}^{K} y_k $$\n"
   ]
  },
  {
   "cell_type": "code",
   "execution_count": 56,
   "metadata": {
    "slideshow": {
     "slide_type": "slide"
    }
   },
   "outputs": [
    {
     "name": "stdout",
     "output_type": "stream",
     "text": [
      "Knn5 hp training R^2 =  0.8567780021942949\n",
      "Knn5 hp test R^2 =  0.6077514879618441\n"
     ]
    }
   ],
   "source": [
    "# Here is how we make a model with K = 5\n",
    "from sklearn.neighbors import KNeighborsRegressor #import the KNN regression model\n",
    "knn = KNeighborsRegressor(n_neighbors=6) # Create KNN model with K hyperparameter\n",
    "knn.fit(wt_train, mpg_train) # Fit the model to training data\n",
    "knn_train= knn.predict(wt_train) # Predict on training data\n",
    "knn_test = knn.predict(wt_test) # Predict on test data\n",
    "train_r2 = knn.score(wt_train, mpg_train) # R^2 for training data\n",
    "test_r2 = knn.score(wt_test, mpg_test) # R^2 for test data\n",
    "print('Knn5 hp training R^2 = ' ,train_r2) \n",
    "print('Knn5 hp test R^2 = ' ,test_r2)"
   ]
  },
  {
   "cell_type": "code",
   "execution_count": 57,
   "metadata": {
    "slideshow": {
     "slide_type": "slide"
    }
   },
   "outputs": [
    {
     "data": {
      "image/png": "[encoded data removed]",
      "text/plain": [
       "<Figure size 1500x600 with 2 Axes>"
      ]
     },
     "metadata": {},
     "output_type": "display_data"
    }
   ],
   "source": [
    "\n",
    "fig, ax = plt.subplots(1,2,figsize=(15,6))\n",
    "ax[0].plot(wt_train, mpg_train,'bo',label ='Train Data')\n",
    "ax[0].plot(wt_train, knn_train,'go',label ='Train Predictions')\n",
    "ax[0].set_xlabel('Weight')\n",
    "ax[0].set_ylabel('MPG')\n",
    "ax[0].set_title('Linear Regression R^2 train = %.2f'%(train_r2))\n",
    "ax[0].legend()\n",
    "ax[1].plot(wt_test, mpg_test,'bo',label ='Test Data')\n",
    "ax[1].plot(wt_test, knn_test,'go',label ='Test Predictions')\n",
    "ax[1].set_xlabel('Weight')\n",
    "ax[1].set_ylabel('MPG')\n",
    "ax[1].set_title('Linear Regression R^2 test = %.2f'%(test_r2))\n",
    "ax[1].legend()\n",
    "plt.show()"
   ]
  },
  {
   "cell_type": "code",
   "execution_count": 59,
   "metadata": {},
   "outputs": [
    {
     "data": {
      "image/png": "[encoded data removed]",
      "text/plain": [
       "<Figure size 900x600 with 1 Axes>"
      ]
     },
     "metadata": {},
     "output_type": "display_data"
    }
   ],
   "source": [
    "ks = range(1, 10) # Grid of k's\n",
    "scores_test = [] # R2 scores for TEST DATA\n",
    "scores_train = [] # R2 scores FOR TRAINING DATA\n",
    "for k in ks:\n",
    "    knnreg = KNeighborsRegressor(n_neighbors=k) # Create KNN model for each value of k\n",
    "    knnreg.fit(wt_train, mpg_train) # Fit the model to training data\n",
    "    score_test = knnreg.score(wt_test, mpg_test) # Calculate R^2 score for test data\n",
    "    scores_test.append(score_test)  \n",
    "    score_train = knnreg.score(wt_train, mpg_train) # Calculate R^2 score for training data\n",
    "    scores_train.append(score_train)\n",
    "\n",
    "# Plot\n",
    "fig, ax = plt.subplots(1,1, figsize=(9,6))\n",
    "ax.plot(ks, scores_test,'go-', ms=12, label='Test Data')\n",
    "ax.plot(ks, scores_train,'bo-', ms=12, label='Train Data')\n",
    "ax.set_xlabel(r'$k$')\n",
    "ax.set_ylabel(r'$R^{2}$')\n",
    "ax.legend()\n",
    "plt.show()"
   ]
  },
  {
   "cell_type": "markdown",
   "metadata": {
    "slideshow": {
     "slide_type": "slide"
    }
   },
   "source": [
    "### Bias-Variance Tradeoff \n",
    "\n",
    "* Suppose we have some data $D = {(x_i,y_i) \\space \\space i=1,2,\\dots n}$\n",
    "* There is some true, but unknown relationship between x and y such that \n",
    "$$ y = f(X) + \\epsilon $$\n",
    "* $\\epsilon$ is the error inherent in the measurement process, and is termed **irreducible**.\n",
    "* We can use various statistical learning methods like regression models, classification models, or even neural networks, to approximate $f(x)$ with $\\hat{f}(x)$\n",
    "* $\\hat{f}(x)$ depends on two things.  \n",
    "    * the specific form and details of our choice of model (e.g., linear model versus polynomial, or in the case of k-nn the number of neighbors)\n",
    "    * the training data used to fit the model parameters.\n",
    "\n",
    "Formally, we can model the expected error in predicting $y$ from $\\hat{f}(x)$ as \n",
    "\n",
    "$$E[(y -\\hat{f}(x))^2] = (Bias[\\hat{f}(x)])^2 + Var[\\hat{f}(x)] + Var[\\epsilon] $$\n",
    "\n",
    "* Here E is the expected value.  In other words, if we repeated the measurement of data sets D and modeling process many times and average the expected error would be composed of 3 parts.  \n",
    "\n",
    "\n",
    "\n"
   ]
  },
  {
   "cell_type": "markdown",
   "metadata": {
    "slideshow": {
     "slide_type": "slide"
    }
   },
   "source": [
    "### Intuitions \n",
    "\n",
    "\n",
    "* The important thing here is $E[\\hat{f}(x)]$ is the expected value of the prediction over many repetitions.  \n",
    "\n",
    "* Bias at x is just the error inherent in approximating $f(x)$ with the form we have chosen with $\\hat{f}(x)$\n",
    "\n",
    "    $$ Bias[\\hat{f}{x}] = E[\\hat{f}(x)] - f(x) $$\n",
    "\n",
    "* Bias measures how far the average model (over many training sets) is from the true function $f(x)$\n",
    "\n",
    "    * High bias → **underfitting** (model too simple, e.g., linear fit to a highly non-linear function).\n",
    "\n",
    "* Variance reflects how variable the predictions of the model are over different training sets:\n",
    "\n",
    "\n",
    "    $$ Var[\\hat{f}(x)]  = E[(\\hat{f}(x) - E[\\hat{f}(x)])^2] $$\n",
    "\n",
    "* Variance measures how much the model’s predictions fluctuate if we change the training data.\n",
    "\n",
    "    * High variance → **overfitting** (model too complex, sensitive to noise in training data)."
   ]
  },
  {
   "cell_type": "markdown",
   "metadata": {
    "slideshow": {
     "slide_type": "slide"
    }
   },
   "source": [
    "### The Trade-Off\n",
    "\n",
    "* As we increase model complexity (e.g., more parameters, deeper networks, higher-degree polynomials):\n",
    "\n",
    "    * Bias usually decreases (model can fit the true function better),\n",
    "\n",
    "    * Variance usually increases (model is less stable due to sensitivity to the details of the data).\n",
    "\n",
    "We want a sweet spot in this trade-off, and the best way for us to find it, is to sequester some data to test the model.  "
   ]
  },
  {
   "cell_type": "markdown",
   "metadata": {},
   "source": []
  }
 ],
 "metadata": {
  "anaconda-cloud": {},
  "kernelspec": {
   "display_name": "base",
   "language": "python",
   "name": "python3"
  },
  "language_info": {
   "codemirror_mode": {
    "name": "ipython",
    "version": 3
   },
   "file_extension": ".py",
   "mimetype": "text/x-python",
   "name": "python",
   "nbconvert_exporter": "python",
   "pygments_lexer": "ipython3",
   "version": "3.13.5"
  }
 },
 "nbformat": 4,
 "nbformat_minor": 1
}
