{
 "cells": [
  {
   "cell_type": "markdown",
   "id": "50640a9d",
   "metadata": {
    "slideshow": {
     "slide_type": "slide"
    }
   },
   "source": [
    "### A Perceptual Discrimination Task to Study Decision Making\n",
    "\n",
    "This is actual data from my lab, which was published here:\n",
    "\n",
    "Nunez, M. D., Vandekerckhove, J., & Srinivasan, R. (2017). How attention influences perceptual decision making: Single-trial EEG correlates of drift-diffusion model parameters. Journal of Mathematical Psychology, 76(Part B), 117–130. https://doi.org/10.1016/j.jmp.2016.03.003\n",
    "\n",
    "Human subject were asked to discriminate the spatial frequency of Gabor patches (as shown below), embeded in noise.  Task difficulty was controlled by the difficulty of the discrimination.  Two Gabors with more similar spatial frequencies are harder to discriminate, especially when noise is added.  In each of 34 participant, The experiment was performed in Easy, Medium, and Hard blocks each consisting of with decreasing differences between the Gabor spatial frequencies.  \n",
    "\n",
    "![](spatialfrequency.png)\n",
    "\n"
   ]
  },
  {
   "cell_type": "markdown",
   "id": "b394f192",
   "metadata": {
    "slideshow": {
     "slide_type": "slide"
    }
   },
   "source": [
    "An experimental trial would look something like this. \n",
    "\n",
    "<p align=\"center\">\n",
    "  <img src=\"stimuli.png\" alt=\"alt text\" width=\"70%\">\n",
    "</p>\n"
   ]
  },
  {
   "cell_type": "markdown",
   "id": "0aaba541",
   "metadata": {
    "slideshow": {
     "slide_type": "slide"
    }
   },
   "source": [
    "The datafile ReactionTimeData.csv is for use in this homework. You can load it into your notebook using pandas using pandas. There are 3 variables in the file: \n",
    "\n",
    "* Subject - indicates a numeric subject id \n",
    "* Experimental Condition - Easy, Medium, Hard \n",
    "* Correct - 1 if correct 0 if incorrect \n",
    "* ResponseTime  - time from stimulus presentation to decision in units of millisecond "
   ]
  },
  {
   "cell_type": "code",
   "execution_count": 1,
   "id": "03ddb54d",
   "metadata": {
    "slideshow": {
     "slide_type": "fragment"
    }
   },
   "outputs": [],
   "source": [
    "import numpy as np\n",
    "import pandas as pd\n",
    "import matplotlib.pyplot as plt\n",
    "import seaborn as sns\n",
    "import scipy.stats as stats\n",
    "from scipy.optimize import minimize"
   ]
  },
  {
   "cell_type": "code",
   "execution_count": 2,
   "id": "f42d20a9",
   "metadata": {
    "slideshow": {
     "slide_type": "slide"
    }
   },
   "outputs": [
    {
     "name": "stdout",
     "output_type": "stream",
     "text": [
      "<class 'pandas.core.frame.DataFrame'>\n",
      "RangeIndex: 11584 entries, 0 to 11583\n",
      "Data columns (total 5 columns):\n",
      " #   Column        Non-Null Count  Dtype \n",
      "---  ------        --------------  ----- \n",
      " 0   Unnamed: 0    11584 non-null  int64 \n",
      " 1   Subject       11584 non-null  int64 \n",
      " 2   Condition     11584 non-null  object\n",
      " 3   Correct       11584 non-null  int64 \n",
      " 4   ResponseTime  11584 non-null  int64 \n",
      "dtypes: int64(4), object(1)\n",
      "memory usage: 452.6+ KB\n"
     ]
    }
   ],
   "source": [
    "df = pd.read_csv('../data/ResponseTimeData.csv')\n",
    "#I always like to dump info as soom as I load a dataframe\n",
    "df.info()"
   ]
  },
  {
   "cell_type": "code",
   "execution_count": 3,
   "id": "d2b436a0",
   "metadata": {
    "slideshow": {
     "slide_type": "slide"
    }
   },
   "outputs": [
    {
     "data": {
      "application/vnd.microsoft.datawrangler.viewer.v0+json": {
       "columns": [
        {
         "name": "Subject",
         "rawType": "int64",
         "type": "integer"
        },
        {
         "name": "count",
         "rawType": "int64",
         "type": "integer"
        }
       ],
       "ref": "37aced1f-820d-4c88-89e4-82c920e92948",
       "rows": [
        [
         "8",
         "355"
        ],
        [
         "9",
         "355"
        ],
        [
         "32",
         "355"
        ],
        [
         "22",
         "355"
        ],
        [
         "16",
         "355"
        ],
        [
         "10",
         "354"
        ],
        [
         "4",
         "353"
        ],
        [
         "27",
         "352"
        ],
        [
         "23",
         "352"
        ],
        [
         "3",
         "352"
        ],
        [
         "17",
         "352"
        ],
        [
         "28",
         "352"
        ],
        [
         "15",
         "352"
        ],
        [
         "6",
         "351"
        ],
        [
         "31",
         "350"
        ],
        [
         "13",
         "350"
        ],
        [
         "11",
         "348"
        ],
        [
         "18",
         "346"
        ],
        [
         "24",
         "345"
        ],
        [
         "19",
         "345"
        ],
        [
         "20",
         "344"
        ],
        [
         "7",
         "344"
        ],
        [
         "25",
         "343"
        ],
        [
         "26",
         "342"
        ],
        [
         "5",
         "340"
        ],
        [
         "30",
         "340"
        ],
        [
         "34",
         "338"
        ],
        [
         "29",
         "338"
        ],
        [
         "12",
         "336"
        ],
        [
         "2",
         "332"
        ],
        [
         "33",
         "329"
        ],
        [
         "14",
         "317"
        ],
        [
         "21",
         "308"
        ],
        [
         "1",
         "204"
        ]
       ],
       "shape": {
        "columns": 1,
        "rows": 34
       }
      },
      "text/plain": [
       "Subject\n",
       "8     355\n",
       "9     355\n",
       "32    355\n",
       "22    355\n",
       "16    355\n",
       "10    354\n",
       "4     353\n",
       "27    352\n",
       "23    352\n",
       "3     352\n",
       "17    352\n",
       "28    352\n",
       "15    352\n",
       "6     351\n",
       "31    350\n",
       "13    350\n",
       "11    348\n",
       "18    346\n",
       "24    345\n",
       "19    345\n",
       "20    344\n",
       "7     344\n",
       "25    343\n",
       "26    342\n",
       "5     340\n",
       "30    340\n",
       "34    338\n",
       "29    338\n",
       "12    336\n",
       "2     332\n",
       "33    329\n",
       "14    317\n",
       "21    308\n",
       "1     204\n",
       "Name: count, dtype: int64"
      ]
     },
     "execution_count": 3,
     "metadata": {},
     "output_type": "execute_result"
    }
   ],
   "source": [
    "#Since I dont know anything about this data, I will do some Exploratory Data Analysis (EDA)\n",
    "#Lets see how many subjects are there\n",
    "df['Subject'].nunique()\n",
    "#Lets see how many trials per subject\n",
    "df['Subject'].value_counts() \n",
    "#It varies a little bit.  Every subject did 360 trials, but I removed trials with no response or too rapid of a response"
   ]
  },
  {
   "cell_type": "code",
   "execution_count": 4,
   "id": "ae1ed453",
   "metadata": {
    "slideshow": {
     "slide_type": "slide"
    }
   },
   "outputs": [
    {
     "data": {
      "application/vnd.microsoft.datawrangler.viewer.v0+json": {
       "columns": [
        {
         "name": "Condition",
         "rawType": "object",
         "type": "string"
        },
        {
         "name": "count",
         "rawType": "int64",
         "type": "integer"
        }
       ],
       "ref": "bbc88fc5-62c3-4c11-bcce-b9fb2a5a1091",
       "rows": [
        [
         "Hard",
         "3893"
        ],
        [
         "Medium",
         "3872"
        ],
        [
         "Easy",
         "3819"
        ]
       ],
       "shape": {
        "columns": 1,
        "rows": 3
       }
      },
      "text/plain": [
       "Condition\n",
       "Hard      3893\n",
       "Medium    3872\n",
       "Easy      3819\n",
       "Name: count, dtype: int64"
      ]
     },
     "execution_count": 4,
     "metadata": {},
     "output_type": "execute_result"
    }
   ],
   "source": [
    "#Lets see how many conditions are there\n",
    "df['Condition'].value_counts()\n",
    "#Looks like there are 3 conditions - Easy, Medium, Hard\n"
   ]
  },
  {
   "cell_type": "code",
   "execution_count": 5,
   "id": "03db2b9d",
   "metadata": {
    "slideshow": {
     "slide_type": "slide"
    }
   },
   "outputs": [
    {
     "data": {
      "application/vnd.microsoft.datawrangler.viewer.v0+json": {
       "columns": [
        {
         "name": "Correct",
         "rawType": "int64",
         "type": "integer"
        },
        {
         "name": "count",
         "rawType": "int64",
         "type": "integer"
        }
       ],
       "ref": "a5374e5f-387c-4aae-a3e1-646c7810a06c",
       "rows": [
        [
         "1",
         "9105"
        ],
        [
         "0",
         "2479"
        ]
       ],
       "shape": {
        "columns": 1,
        "rows": 2
       }
      },
      "text/plain": [
       "Correct\n",
       "1    9105\n",
       "0    2479\n",
       "Name: count, dtype: int64"
      ]
     },
     "execution_count": 5,
     "metadata": {},
     "output_type": "execute_result"
    }
   ],
   "source": [
    "#Lets see how many correct and incorrect trials are there\n",
    "df['Correct'].value_counts()\n",
    "#1 is correct 0 is incorrect "
   ]
  },
  {
   "cell_type": "markdown",
   "id": "6c94279c",
   "metadata": {
    "slideshow": {
     "slide_type": "slide"
    }
   },
   "source": [
    "There is a lot of values of response time, and they are continuous.  We will make a histogram to take a look at it. "
   ]
  },
  {
   "cell_type": "code",
   "execution_count": 6,
   "id": "928b54ab",
   "metadata": {
    "slideshow": {
     "slide_type": "fragment"
    }
   },
   "outputs": [
    {
     "data": {
      "text/plain": [
       "<Axes: xlabel='ResponseTime', ylabel='Count'>"
      ]
     },
     "execution_count": 6,
     "metadata": {},
     "output_type": "execute_result"
    },
    {
     "data": {
      "image/png": "[encoded data removed]",
      "text/plain": [
       "<Figure size 640x480 with 1 Axes>"
      ]
     },
     "metadata": {},
     "output_type": "display_data"
    }
   ],
   "source": [
    "sns.histplot(data=df, x='ResponseTime', bins=30, hue='Condition', hue_order = ['Easy','Medium','Hard'],kde=True,multiple='dodge')"
   ]
  },
  {
   "cell_type": "markdown",
   "id": "dbbf63bd",
   "metadata": {
    "slideshow": {
     "slide_type": "slide"
    }
   },
   "source": [
    "* Lets compute some overall statistics "
   ]
  },
  {
   "cell_type": "code",
   "execution_count": 7,
   "id": "10440b63",
   "metadata": {
    "slideshow": {
     "slide_type": "fragment"
    }
   },
   "outputs": [
    {
     "name": "stdout",
     "output_type": "stream",
     "text": [
      "Overall accuracy is 78.60%\n"
     ]
    }
   ],
   "source": [
    "# I can do this inside pandas actually. \n",
    "accuracy = df['Correct'].mean()\n",
    "print(f'Overall accuracy is {accuracy*100:.2f}%')"
   ]
  },
  {
   "cell_type": "code",
   "execution_count": 8,
   "id": "c4c4c823",
   "metadata": {
    "slideshow": {
     "slide_type": "fragment"
    }
   },
   "outputs": [
    {
     "name": "stdout",
     "output_type": "stream",
     "text": [
      "Overall mean response time is 868.7 ms\n"
     ]
    }
   ],
   "source": [
    "mean_rt = df['ResponseTime'].mean()\n",
    "print(f'Overall mean response time is {mean_rt:.1f} ms')"
   ]
  },
  {
   "cell_type": "markdown",
   "id": "70b6020a",
   "metadata": {
    "slideshow": {
     "slide_type": "slide"
    }
   },
   "source": [
    "* This is the pandas way of grouping the data and getting separate means"
   ]
  },
  {
   "cell_type": "code",
   "execution_count": 9,
   "id": "a7866ed6",
   "metadata": {
    "slideshow": {
     "slide_type": "slide"
    }
   },
   "outputs": [
    {
     "name": "stdout",
     "output_type": "stream",
     "text": [
      "Mean Response Time by Condition:\n",
      "Condition\n",
      "Easy      812.957842\n",
      "Hard      920.328282\n",
      "Medium    871.684659\n",
      "Name: ResponseTime, dtype: float64\n",
      "Mean Accuracy by Condition:\n",
      "Condition\n",
      "Easy      0.884263\n",
      "Hard      0.671462\n",
      "Medium    0.804236\n",
      "Name: Correct, dtype: float64\n"
     ]
    }
   ],
   "source": [
    "mean_rt_by_condition = df.groupby('Condition')['ResponseTime'].mean()\n",
    "mean_acc_by_condition = df.groupby('Condition')['Correct'].mean()\n",
    "print('Mean Response Time by Condition:')\n",
    "print(mean_rt_by_condition)\n",
    "print('Mean Accuracy by Condition:')\n",
    "print(mean_acc_by_condition)"
   ]
  },
  {
   "cell_type": "markdown",
   "id": "5178e2fb",
   "metadata": {
    "slideshow": {
     "slide_type": "slide"
    }
   },
   "source": [
    "* I want to look at it by condition, and I dont want to hassle dealing with pandas syntax"
   ]
  },
  {
   "cell_type": "code",
   "execution_count": 10,
   "id": "c05e6eb7",
   "metadata": {
    "slideshow": {
     "slide_type": "fragment"
    }
   },
   "outputs": [],
   "source": [
    "rt = np.array(df['ResponseTime'])\n",
    "correct = np.array(df['Correct'])\n",
    "condition = np.array(df['Condition'])"
   ]
  },
  {
   "cell_type": "code",
   "execution_count": 11,
   "id": "ffb024d1",
   "metadata": {
    "slideshow": {
     "slide_type": "slide"
    }
   },
   "outputs": [],
   "source": [
    "condition_labels = ['Easy','Medium','Hard']\n",
    "#mean_rt = [np.mean(rt[condition==cl]) for cl in condition_labels]\n",
    "#mean_acc = [np.mean(correct[condition==cl]) for cl in condition_labels]\n",
    "mean_rt = dict()\n",
    "std_rt = dict()\n",
    "mean_acc = dict()\n",
    "for cl in condition_labels:\n",
    "    mean_rt[cl] = np.mean(rt[condition==cl])\n",
    "    std_rt[cl] = np.std(rt[condition==cl])\n",
    "    mean_acc[cl] = np.mean(correct[condition==cl])\n",
    "\n"
   ]
  },
  {
   "cell_type": "code",
   "execution_count": 12,
   "id": "cdac8d75",
   "metadata": {
    "slideshow": {
     "slide_type": "slide"
    }
   },
   "outputs": [
    {
     "name": "stdout",
     "output_type": "stream",
     "text": [
      "Mean Accuracy by condition:\n",
      "{'Easy': np.float64(0.8842628960460853), 'Medium': np.float64(0.8042355371900827), 'Hard': np.float64(0.6714615977395325)}\n"
     ]
    }
   ],
   "source": [
    "print('Mean Accuracy by condition:')\n",
    "print(mean_acc)"
   ]
  },
  {
   "cell_type": "code",
   "execution_count": 13,
   "id": "e60c5829",
   "metadata": {
    "slideshow": {
     "slide_type": "slide"
    }
   },
   "outputs": [
    {
     "name": "stdout",
     "output_type": "stream",
     "text": [
      "Mean RT by condition:\n",
      "{'Easy': np.float64(812.9578423671118), 'Medium': np.float64(871.6846590909091), 'Hard': np.float64(920.328281530953)}\n",
      "Std RT by condition:\n",
      "{'Easy': np.float64(248.6647264233954), 'Medium': np.float64(267.98087231333045), 'Hard': np.float64(281.14363089159184)}\n"
     ]
    }
   ],
   "source": [
    "print('Mean RT by condition:')\n",
    "print(mean_rt)\n",
    "print('Std RT by condition:')\n",
    "print(std_rt)"
   ]
  },
  {
   "cell_type": "markdown",
   "id": "70338c5f",
   "metadata": {
    "slideshow": {
     "slide_type": "slide"
    }
   },
   "source": [
    "### MLE Estimate of a Normal Distribution \n",
    "\n",
    "If we have a set of samples $X$ = {$x_n$\\}, n = 1,..,N that we wish to fit to a normal distribution, we have to develop an expression for the the Likelihood. \n",
    "\n",
    "The Normal distribution $\\mathcal{N}(\\mu,\\sigma^2)$ has probability density \n",
    "\n",
    "$$ \\mathcal{p}(x |\\mu,\\sigma^2) = \\frac{1}{\\sigma\\sqrt{2\\pi}}e^{\\frac{-(x-\\mu)^2}{2\\sigma^2}} $$\n",
    "where $\\mu$ is the mean and $\\sigma^2$ is the variance or standard deviation squared.  \n",
    "\n",
    "The Likelihood for the set of observation \\{$x_n$\\}, n = 1,..N is the product of the normal density for each observation, \n",
    "\n",
    "$$L(\\mu,\\sigma) = p(\\{x_n\\}|\\mu,\\sigma) = \\prod_{n=1}^N p(x_n|\\mu,\\sigma)$$\n",
    "$$ln(L(\\mu,\\sigma)) = ln(p(\\{x_n\\}|\\mu,\\sigma)) =  \\sum_{n=1}^N ln(p(x_n|\\mu,\\sigma))$$\n",
    "\n",
    "* The maximum likelihood estimate is \n",
    "$$ \\mu = \\frac{1}{N} \\displaystyle\\sum_{n=1}^N{x_n}  = \\bar{X}  $$\n",
    "$$ \\hat{\\sigma}^2= \\frac{1}{n}\\sum_{i=1}^n (x_i - \\bar{x})^2 = s_X^2 $$"
   ]
  },
  {
   "cell_type": "code",
   "execution_count": 14,
   "id": "73fd16a7",
   "metadata": {
    "slideshow": {
     "slide_type": "slide"
    }
   },
   "outputs": [
    {
     "data": {
      "image/png": "[encoded data removed]",
      "text/plain": [
       "<Figure size 600x400 with 1 Axes>"
      ]
     },
     "metadata": {},
     "output_type": "display_data"
    }
   ],
   "source": [
    "plt.figure(figsize=(6,4))\n",
    "plt.hist(rt[condition=='Hard'], np.arange(100,2000,100), alpha=0.5, label='Hard',density =True)\n",
    "normal = stats.norm(loc=mean_rt['Hard'], scale=std_rt['Hard'])\n",
    "x = np.linspace(100,2000,100)\n",
    "plt.plot(x, normal.pdf(x), 'r-',label = \"Normal Fit\")\n",
    "plt.xlabel('Response Time (ms)')\n",
    "plt.ylabel('Density')\n",
    "plt.title('Response Time Distribution - Hard Condition')\n",
    "plt.legend()\n",
    "plt.show()"
   ]
  },
  {
   "cell_type": "markdown",
   "id": "e18708a1",
   "metadata": {
    "slideshow": {
     "slide_type": "slide"
    }
   },
   "source": [
    "Lets write down the likelihood for a normal distribution using `norm.pdf` "
   ]
  },
  {
   "cell_type": "code",
   "execution_count": 15,
   "id": "53eb2acc",
   "metadata": {
    "slideshow": {
     "slide_type": "fragment"
    }
   },
   "outputs": [],
   "source": [
    "def negloglikenormal(params):\n",
    "    ''' Please note that this function uses a global variable called data, which is the data you are fitting\n",
    "        params is a list or array with two elements - mean and standard deviation\n",
    "    '''\n",
    "    mu = params[0]\n",
    "    sigma = params[1]\n",
    "    N = len(data)\n",
    "    negloglike = np.sum(-np.log(stats.norm(mu,sigma).pdf(data)))\n",
    "    return negloglike"
   ]
  },
  {
   "cell_type": "markdown",
   "id": "29bfae0f",
   "metadata": {
    "slideshow": {
     "slide_type": "slide"
    }
   },
   "source": [
    "Even though we know the correct answer we could in fact use this negative log-likelihood to search for the best fit parameters.  We need this function, and the `minimize` function from `scipy.optimize` "
   ]
  },
  {
   "cell_type": "code",
   "execution_count": 16,
   "id": "dbbad201",
   "metadata": {
    "slideshow": {
     "slide_type": "fragment"
    }
   },
   "outputs": [],
   "source": [
    "data = rt[condition=='Hard'] #global variable used in the function above\n",
    "bnds = ((0,2000),(0,500)) #bounds for mean and standrd deviation\n",
    "paramfit = minimize(negloglikenormal,(1000,250),bounds = bnds); #initial guess is (1000,250)"
   ]
  },
  {
   "cell_type": "code",
   "execution_count": 17,
   "id": "ed634399",
   "metadata": {
    "slideshow": {
     "slide_type": "fragment"
    }
   },
   "outputs": [
    {
     "name": "stdout",
     "output_type": "stream",
     "text": [
      "Fitted parameters for Hard condition:\n",
      "Mean: 920.3, Std: 281.1\n",
      "Function value (Negative Log Likelihood): 27476.0\n"
     ]
    }
   ],
   "source": [
    "print('Fitted parameters for Hard condition:')\n",
    "print(f'Mean: {paramfit.x[0]:.1f}, Std: {paramfit.x[1]:.1f}')\n",
    "print(f'Function value (Negative Log Likelihood): {paramfit.fun:.1f}')"
   ]
  },
  {
   "cell_type": "markdown",
   "id": "9e802fc4",
   "metadata": {
    "slideshow": {
     "slide_type": "slide"
    }
   },
   "source": [
    "### MLE is a powerful method. \n",
    "\n",
    "* If I choose a useful, meaningful **probability model** $P(X|\\theta)$, \n",
    "\n",
    "* And if I can write down a **likelihood** as the product of the probability of observing each observation of data. \n",
    "\n",
    "* Then I can find the **parameters** of the probability model that maximize the likelihood.  \n",
    "\n",
    "* In practice, I will work with **log-likelihood** because by taking a log, I replce the product of probabilities with the sum of log(probability). The maximimum of log-likelihood is at the same parameter values as the maximum of likelihood. \n",
    "\n",
    "* In practice, I will often work with **negative log-likelihood** because I will find myself using optimization to tools that are designed to find the minimum of a function. \n",
    "\n"
   ]
  },
  {
   "cell_type": "markdown",
   "id": "95e8d9bf",
   "metadata": {
    "slideshow": {
     "slide_type": "slide"
    }
   },
   "source": [
    "### A hypothesis about the decision making process \n",
    "\n",
    "* Assume a model that samples evidence in discrete time windows. The evidence\n",
    "obtained in each time window will favor one of the two alternatives (a \"nudge\").\n",
    "\n",
    "* Each sample represents a nudge toward one decision or another. The magnitude of that nudge reflects how much information is acquired in that single sample.\n",
    "\n",
    "* The nudge would then be added to the sum of previous nudges, moving a\n",
    "decision variable towards one or the other alternative. (An alternative view is that\n",
    "there are two decision variables involved in a race)\n",
    "\n",
    "* A decision is made when the decision variable crosses a boundary (In a race or\n",
    "competing accumulator model, one of the two accumulators crosses the\n",
    "boundary)."
   ]
  },
  {
   "cell_type": "markdown",
   "id": "798029c7",
   "metadata": {
    "slideshow": {
     "slide_type": "slide"
    }
   },
   "source": [
    "### Random Walk Models \n",
    "\n",
    "<p align=\"center\">\n",
    "  <img src=\"randomwalker.png\" alt=\"alt text\" width=\"30%\">\n",
    "</p>\n",
    "\n",
    "Random walk models originated in physics and chemistry (e.g., Brownian motion\n",
    "of a gas)\n",
    "They are used in psychology and neuroscience.\n",
    "They are also used in economics and finance.\n",
    "Ramesh Srinivasan\n",
    "Cognitive Sciences\n",
    "Lecture 2"
   ]
  },
  {
   "cell_type": "markdown",
   "id": "ebafe2be",
   "metadata": {
    "slideshow": {
     "slide_type": "slide"
    }
   },
   "source": [
    "### Random Walk Models \n",
    "\n",
    "* Random walk process starts at $Z(0)$ (This is an important variable that\n",
    "expresses bias, i.e., intrinsic preference for one choice over the other!)\n",
    "* At each time point t, the walker takes a step $X(t)$. \n",
    "* $X(t)$ can be any positive or negative number randomly drawn from some distribution, e.g., $\\mathcal{N}(\\mu,\\sigma^2)$\n",
    "* The evidence, i.e. position of the walker, after 1 step is defined as: \n",
    "\n",
    "$Z(1) = Z(0) + X(1)$\n",
    "\n",
    "* The evidence, i.e. position of the walker, after 2 steps is defined as:\n",
    "\n",
    "$Z(2) = Z(1)+ X(1) = Z(0) + X(1) + X(2)$\n",
    "\n",
    "* More generally, after T steps\n",
    "\n",
    "$$ Z(T) = Z(0) + \\sum_{t = 0}^T X(t) $$\n"
   ]
  },
  {
   "cell_type": "markdown",
   "id": "40eaca37",
   "metadata": {
    "slideshow": {
     "slide_type": "slide"
    }
   },
   "source": [
    "### Random Walker \n",
    "\n",
    "* In our example of the drunken walker, let's assume they start at the middle of the table. We will call that position $Z = 0$ \n",
    "\n",
    "* The two edges of the table are then at $Z = \\pm B$\n",
    "\n",
    "* Each step could be equally to the left or right, so we can reasonably assume that steps are equally likely to be to the left or right.  \n",
    "\n",
    "$$X \\sim \\mathcal{N}(0,\\sigma^2)$$\n",
    "\n",
    "* The steps taken by the drunk **accumulate** and there is some possibility the drunk will fall-off one side of the table. \n"
   ]
  },
  {
   "cell_type": "markdown",
   "id": "987af632",
   "metadata": {
    "slideshow": {
     "slide_type": "slide"
    }
   },
   "source": [
    "### Relationship to Decision Making \n",
    "\n",
    "* Our narrative of the random walker, provides a useful metaphor for a model of decision making. \n",
    "\n",
    "* After figure-ground segregation, a neural representation of the stimulus in an experiment is available in the brain.\n",
    "\n",
    "* In a two-alternative decision making task, the stimulus must be classified as being from one of two classes. For example, high or low spatial frequency. \n",
    "\n",
    "* At each time step, a sample of evidence can obtained from the neurons that represent the stimulus.  Since there is actual information in the stimulus,this evidence will (on average) favor the correct decision.  But these samples are noisy, and could providence evidence $X$ for the wrong decision\n",
    "\n",
    "$$ X(t) \\sim \\mathcal{N}(d,\\sigma^2) $$\n",
    "\n",
    "* Here $d$ represents the information available in the stimulus. \n",
    "\n",
    "* The boundary B represents a criterion for how much accumulated evidence $Z$ is needed to select one decision. There is a boundary at $+B$ and a boundary at $-B$.  We can have these boundaries represent the two decisions, but its better to follow a convention that d is always positive, and $+B$ is correct decision and $-B$ is the incorrect decision. \n",
    "\n",
    "* The sample on which $Z > B$ or $Z < -B$ triggers a motor response. \n",
    "* We can introduce the notion of bias by starting the walks $X(0) \\neq 0$. This represents a prior belief by the decision maker that one choice is correct.  "
   ]
  },
  {
   "cell_type": "markdown",
   "id": "c1eb4cc0",
   "metadata": {
    "slideshow": {
     "slide_type": "slide"
    }
   },
   "source": [
    "### Drift-Diffusion Model\n",
    "\n",
    "![alt text](DDM.png)"
   ]
  },
  {
   "cell_type": "markdown",
   "id": "50afef3a",
   "metadata": {
    "slideshow": {
     "slide_type": "slide"
    }
   },
   "source": [
    "### Shifted Wald Distribution \n",
    "<p align=\"center\">\n",
    "  <img src=\"sw.png\" alt=\"alt text\" width=\"50%\">\n",
    "</p>\n",
    "\n",
    "* In this simplified diffusion, we simply focus on the correct (or incorrect) trials separately, and assume there is only one boundary.  \n",
    "* In this process model, there are 3 parameters:\n",
    "    * $\\theta$ which is referred to as shift which is nondecision time.\n",
    "    * $\\alpha$ which is the boundary separation or caution.\n",
    "    * $\\gamma$ which is drift rate or the rate of evidence accumulation."
   ]
  },
  {
   "cell_type": "markdown",
   "id": "7ff8b659",
   "metadata": {
    "slideshow": {
     "slide_type": "slide"
    }
   },
   "source": [
    "![alt text](sw_shapes.png)\n",
    "\n",
    "$$f(X|\\gamma,\\alpha,\\theta) = \\frac{\\alpha}{\\sqrt{2\\pi(X-\\theta)^3}}e^{-\\frac{|\\alpha - \\gamma(X - \\theta)|^2}{2(X-\\theta)}}$$"
   ]
  },
  {
   "cell_type": "markdown",
   "id": "986ec3d9",
   "metadata": {
    "slideshow": {
     "slide_type": "slide"
    }
   },
   "source": [
    "### Shifted-wald interpretation \n",
    "\n",
    "* The shifted Wald model has a clear link to the process that generated the data. Each of the parameters has a meaning.\n",
    "\n",
    "* The shift parameter $\\theta$ is related to the time outside of \"decision making\", i.e.,\n",
    "evidence accumulation process. This is the time for sensory processing and motor\n",
    "response.\n",
    "\n",
    "* The boundary parameter $\\alpha$ reflect the caution of the subject - how much\n",
    "information do they need to make a decision.\n",
    "\n",
    "* The drift parameter $\\gamma$ reflect the rate of information accrual, or difficulty of the task.\n",
    "\n",
    "* The main \"weakness\" of the shifted Wald model is that it can only make use of correct\n",
    "trials and completely ignores the incorrect trials.\n",
    "\n",
    "* The full drift-diffusion model maybe a better model as it incorporates the incorrect trials. \n",
    "\n",
    "* Which model to fit depends on the nature of the task and the data available. For\n",
    "example, in tasks with very high accuracy, the shifted Wald model may be a better\n",
    "model, as there are insufficient incorrect trials to fit the drift-diffusion model."
   ]
  },
  {
   "cell_type": "markdown",
   "id": "acd34904",
   "metadata": {
    "slideshow": {
     "slide_type": "slide"
    }
   },
   "source": [
    "### Framing Your Hypothesis Quantitatively in a Model\n",
    "\n",
    "<p align=\"center\">\n",
    "  <img src=\"spatialfrequency.png\" alt=\"alt text\" width=\"20%\">\n",
    "</p>\n",
    "\n",
    "* Consider the spatial frequency discrimination task whose data you will look at.\n",
    "\n",
    "* The data show that as the discrimination becomes more difficult (difference in spatial\n",
    "frequency becomes smaller), accuracy is lower, and response time increases for accurate trials.\n",
    "\n",
    "* Using the single diffusion model (shifted-Wald) can we express some hypothesis about\n",
    "the data:\n",
    "    * The experiment was designed to manipulate drift rate by reducing the information available in the stimuli. As the spatial frequencies become closer there is less evidence to accumulate on each sample, so $\\gamma$ should be smaller and response time increases.\n",
    "    * However, keep in mind, since we used a block design there is always the possibility that boundary is varying with task difficulty as the subjects became more cautious when they find evidence accumulation is slower (task harder).\n",
    "\n"
   ]
  }
 ],
 "metadata": {
  "kernelspec": {
   "display_name": "base",
   "language": "python",
   "name": "python3"
  },
  "language_info": {
   "codemirror_mode": {
    "name": "ipython",
    "version": 3
   },
   "file_extension": ".py",
   "mimetype": "text/x-python",
   "name": "python",
   "nbconvert_exporter": "python",
   "pygments_lexer": "ipython3",
   "version": "3.13.5"
  }
 },
 "nbformat": 4,
 "nbformat_minor": 5
}
