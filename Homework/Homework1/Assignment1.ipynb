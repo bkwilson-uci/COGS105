{
 "cells": [
  {
   "cell_type": "markdown",
   "metadata": {},
   "source": [
    "## Assignment 1 Model Fitting with Maximum Likelihood \n",
    "* The purpose of this assignment is to learn how to write a log likelihood function, fit models to data with maximum likelihood and to select among models using AIC and a validation set.  \n",
    "* Along the way, we'll learn a bit about decision making models and response time data.  \n",
    "\n",
    "### Due: Sunday 10/19"
   ]
  },
  {
   "cell_type": "code",
   "execution_count": null,
   "metadata": {},
   "outputs": [],
   "source": [
    "import numpy as np\n",
    "from matplotlib import pyplot as plt"
   ]
  },
  {
   "cell_type": "markdown",
   "metadata": {},
   "source": [
    "### A Perceptual Discrimination Task to Study Decision Making\n",
    "\n",
    "This is actual data from my lab, which was published here:\n",
    "\n",
    "Nunez, M. D., Vandekerckhove, J., & Srinivasan, R. (2017). How attention influences perceptual decision making: Single-trial EEG correlates of drift-diffusion model parameters. Journal of Mathematical Psychology, 76(Part B), 117–130. https://doi.org/10.1016/j.jmp.2016.03.003\n",
    "\n",
    "Human subject were asked to discriminate the spatial frequency of Gabor patches (as shown below), embeded in noise.  Task difficulty was controlled by the difficulty of the discrimination.  Two Gabors with more similar spatial frequencies are harder to discriminate, especially when noise is added.  In each of 34 participant, The experiment was performed in Easy, Medium, and Hard blocks each consisting of with decreasing differences between the Gabor spatial frequencies.  \n",
    "\n",
    "![](spatialfrequency.png)\n",
    "\n",
    "The datafile ReactionTimeData.csv is for use in this homework. You can load it into your notebook using pandas using pandas. There are 3 variables in the file: \n",
    "\n",
    "* Subject - indicates a numeric subject id \n",
    "* Experimental Condition - Easy, Medium, Hard \n",
    "* Correct - 1 if correct 0 if incorrect \n",
    "* ResponseTime  - time from stimulus presentation to decision in units of millisecond "
   ]
  },
  {
   "cell_type": "markdown",
   "metadata": {},
   "source": [
    "#### Problem 1 Explore and Visualize the Data.  I recommend using this exercise to learn about seaborn. \n",
    "a. make a histogram of Response Time for an individual subject, showing all 3 difficulty conditions in a single graph.\n",
    " \n",
    " "
   ]
  },
  {
   "cell_type": "code",
   "execution_count": null,
   "metadata": {},
   "outputs": [],
   "source": []
  },
  {
   "cell_type": "markdown",
   "metadata": {},
   "source": [
    "b. make a bar graph showing the accuracy (proportion or percentage correct) in each condition.  "
   ]
  },
  {
   "cell_type": "code",
   "execution_count": null,
   "metadata": {},
   "outputs": [],
   "source": []
  },
  {
   "cell_type": "markdown",
   "metadata": {},
   "source": [
    "c. Make a boxplot that shows the distributions of each condition, with correct and incorrect trials separated. "
   ]
  },
  {
   "cell_type": "code",
   "execution_count": null,
   "metadata": {},
   "outputs": [],
   "source": []
  },
  {
   "cell_type": "markdown",
   "metadata": {},
   "source": [
    "d. Calculate the mean reaction time for each subject in each condition.  Make a histogram that shows the distribution of mean RT across subjects,showing all 3 conditions in a single graph. "
   ]
  },
  {
   "cell_type": "code",
   "execution_count": null,
   "metadata": {},
   "outputs": [],
   "source": []
  },
  {
   "cell_type": "markdown",
   "metadata": {},
   "source": [
    "In class we discussed how different distributions might be used to model Response Time data in decision making tasks.  In particular, the shifted Wald distribution is a distribution that captures aspects of the processes that give rise to Response Time.  \n",
    "\n",
    "The shifted Wald distribution is a 1-boundary model. And, for simplicity, we will only consider correct trials.  \n",
    "\n"
   ]
  },
  {
   "cell_type": "code",
   "execution_count": null,
   "metadata": {},
   "outputs": [],
   "source": [
    "def shiftedwald(params, x):\n",
    "    '''\n",
    "    params: is a list or numpy array containing two parameters\n",
    "    x: are the data\n",
    "    '''\n",
    " \n",
    "    gamma = params[0] #drift rate\n",
    "    alpha = params[1] #boundary separation\n",
    "    theta = params[2] #shift or nondecision time \n",
    "    x = x-theta\n",
    "    z = alpha/np.sqrt(2*np.pi*(x**3))\n",
    "    w = ((np.abs(alpha-gamma*x))**2)/(2*x)\n",
    "    f = z*np.exp(-w)\n",
    "    return f"
   ]
  },
  {
   "cell_type": "markdown",
   "metadata": {},
   "source": [
    "### Problem 2 \n",
    "Use the shifted Wald distribution defined above.  Write a function which computes the negative log likelihood of the shifted Wald distribution.  Assume that the data to be analyzed is in a variable called data. \n",
    "\n",
    "The function should return negative log likelihood "
   ]
  },
  {
   "cell_type": "code",
   "execution_count": null,
   "metadata": {},
   "outputs": [],
   "source": [
    "def negloglikeWald(params):\n",
    "    ''' written with params containing gamma, alpha, theta in that order.  Assumes data is in the variable data'''\n",
    "    return negloglike "
   ]
  },
  {
   "cell_type": "markdown",
   "metadata": {},
   "source": [
    "### Problem 3 \n",
    "\n",
    "Using the function the negative log-likelihood that you developed in problem 1, fit the shifted Wald distribution to the data for ALL the subjects in ReactionTimeData.csv.  \n",
    "\n",
    "You should consider two models: \n",
    "Model A: All of the data comes from a single distribution. \n",
    "Model B: The data in each condition (Easy, Medium, Hard) comes from a separate distribution. \n",
    "\n",
    "When providing bounds to the fitting process, keep in mind that the only constraints on the parameters of this model is that they have to be positive.  To specify an upper bound of infinity, use `np.inf`\n",
    "\n",
    "If you run into problems with your computer taking too long, reduce the amount of data, even do just 1 or a few subjects.\n",
    "\n",
    "Make a plot or table or something to show me (make it pretty!) how the resulting parameter fits turned out.  "
   ]
  },
  {
   "cell_type": "code",
   "execution_count": null,
   "metadata": {},
   "outputs": [],
   "source": []
  },
  {
   "cell_type": "markdown",
   "metadata": {},
   "source": [
    "### Problem 4 \n",
    "\n",
    "Use AIC to evaluate which model you should prefer.  Do the data come from 1 distribution or from three different distributions?  "
   ]
  },
  {
   "cell_type": "code",
   "execution_count": null,
   "metadata": {},
   "outputs": [],
   "source": []
  },
  {
   "cell_type": "markdown",
   "metadata": {},
   "source": [
    "### Problem 5 \n",
    "\n",
    "The two models given above are not the only models we could propose. The power of likelihood and modeling (as opposed to statistical testing) is if we can be very specific about our hypothesis.    \n",
    "\n",
    "The original idea of this experiment was to manipulate drift rate in order to find brain activity related to speed of information processing. \n",
    "So, our hypothesis was that non-decision time, and boundary would be the same for all conditions, and only the drift rate would vary.  \n",
    "\n",
    "Write a function for negative log likelihood for a model that keeps boundary (alpha) and non-decision time (theta) the same for all 3 conditions, but allows drift rate (gamma) to vary between conditions. \n",
    "\n",
    "In this model there are now 5 parameters - gamma_easy, gamma_medium, gamma_hard, alpha, theta. \n",
    "The likelihood should be evaluated using the correct gamma for each condition, and using the sama alpha and theta for all condition.  "
   ]
  },
  {
   "cell_type": "code",
   "execution_count": null,
   "metadata": {},
   "outputs": [],
   "source": []
  },
  {
   "cell_type": "markdown",
   "metadata": {},
   "source": [
    "### Problem 6\n",
    "\n",
    "Use you new likelihood you developed in Problem 5 to fit the data (call it model C), and compare to models A and B using AIC. Make a new table showing the parameters for each model and which model seems to fit the data the best. (by AIC)   "
   ]
  },
  {
   "cell_type": "code",
   "execution_count": null,
   "metadata": {},
   "outputs": [],
   "source": []
  },
  {
   "cell_type": "markdown",
   "metadata": {},
   "source": [
    "### Problem 7 (Experimental) - not required.  \n",
    "\n",
    "Use sklearn's test_train_split to split the dataframe you read from ResponseTime.csv into training and test dataframes.  Keep around 0.2 or 0.3 of the data for testing.  When you do this, remember to stratify by participant!  Fit models A,B,C to the training data.  Then choose the best parameter values for each model to compute the likelihood of each model and identify which model has maximum likelihood in the test data. No AIC needed!   "
   ]
  },
  {
   "cell_type": "code",
   "execution_count": null,
   "metadata": {},
   "outputs": [],
   "source": []
  }
 ],
 "metadata": {
  "kernelspec": {
   "display_name": "base",
   "language": "python",
   "name": "python3"
  },
  "language_info": {
   "codemirror_mode": {
    "name": "ipython",
    "version": 3
   },
   "file_extension": ".py",
   "mimetype": "text/x-python",
   "name": "python",
   "nbconvert_exporter": "python",
   "pygments_lexer": "ipython3",
   "version": "3.11.3"
  },
  "orig_nbformat": 4
 },
 "nbformat": 4,
 "nbformat_minor": 2
}
